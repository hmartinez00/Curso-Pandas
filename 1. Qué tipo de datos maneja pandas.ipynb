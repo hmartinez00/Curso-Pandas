{
 "cells": [
  {
   "cell_type": "markdown",
   "metadata": {},
   "source": [
    "# ¿Qué tipo de datos maneja pandas?\n",
    "\n",
    "Quiero empezar a usar pandas"
   ]
  },
  {
   "cell_type": "code",
   "execution_count": 3,
   "metadata": {},
   "outputs": [],
   "source": [
    "import pandas as pd"
   ]
  },
  {
   "cell_type": "markdown",
   "metadata": {},
   "source": [
    "Para cargar el paquete pandas y comenzar a trabajar con él, importe el paquete. El alias acordado por la comunidad para pandas es `pd`, por lo que cargar pandas pdes una práctica estándar para toda la documentación de pandas.\n",
    "\n",
    "## 1. Representación de la tabla de datos de pandas\n",
    "\n",
    "<img src=\"data/01_table_dataframe.svg\">"
   ]
  },
  {
   "cell_type": "markdown",
   "metadata": {},
   "source": [
    "### 1.1 Quiero almacenar datos de pasajeros del Titanic. Para un número de pasajeros, conozco los datos de nombre (caracteres), edad (enteros) y sexo (masculino/femenino).\n",
    "\n",
    "Para almacenar manualmente datos en una tabla, cree un *archivo DataFrame* (Obsérvese el método `DataFrame()`). Al usar un diccionario de listas de Python, las claves del diccionario se usarán como encabezados de columna y los valores de cada lista como columnas del archivo DataFrame."
   ]
  },
  {
   "cell_type": "code",
   "execution_count": 4,
   "metadata": {},
   "outputs": [
    {
     "data": {
      "text/html": [
       "<div>\n",
       "<style scoped>\n",
       "    .dataframe tbody tr th:only-of-type {\n",
       "        vertical-align: middle;\n",
       "    }\n",
       "\n",
       "    .dataframe tbody tr th {\n",
       "        vertical-align: top;\n",
       "    }\n",
       "\n",
       "    .dataframe thead th {\n",
       "        text-align: right;\n",
       "    }\n",
       "</style>\n",
       "<table border=\"1\" class=\"dataframe\">\n",
       "  <thead>\n",
       "    <tr style=\"text-align: right;\">\n",
       "      <th></th>\n",
       "      <th>Nombre</th>\n",
       "      <th>Edad</th>\n",
       "      <th>Sexo</th>\n",
       "    </tr>\n",
       "  </thead>\n",
       "  <tbody>\n",
       "    <tr>\n",
       "      <th>0</th>\n",
       "      <td>Braund, Mr. Owen Harris</td>\n",
       "      <td>22</td>\n",
       "      <td>masculino</td>\n",
       "    </tr>\n",
       "    <tr>\n",
       "      <th>1</th>\n",
       "      <td>Allen, Mr. William Henrry</td>\n",
       "      <td>35</td>\n",
       "      <td>masculino</td>\n",
       "    </tr>\n",
       "    <tr>\n",
       "      <th>2</th>\n",
       "      <td>Bonnell, Miss. Elizabeth</td>\n",
       "      <td>58</td>\n",
       "      <td>femenino</td>\n",
       "    </tr>\n",
       "  </tbody>\n",
       "</table>\n",
       "</div>"
      ],
      "text/plain": [
       "                      Nombre  Edad       Sexo\n",
       "0    Braund, Mr. Owen Harris    22  masculino\n",
       "1  Allen, Mr. William Henrry    35  masculino\n",
       "2   Bonnell, Miss. Elizabeth    58   femenino"
      ]
     },
     "execution_count": 4,
     "metadata": {},
     "output_type": "execute_result"
    }
   ],
   "source": [
    "df = pd.DataFrame(\n",
    "    {\n",
    "        \"Nombre\": [\n",
    "            \"Braund, Mr. Owen Harris\",\n",
    "            \"Allen, Mr. William Henrry\",\n",
    "            \"Bonnell, Miss. Elizabeth\",\n",
    "        ],\n",
    "        \"Edad\": [22, 35, 58],\n",
    "        \"Sexo\": [\"masculino\", \"masculino\", \"femenino\"],\n",
    "    }\n",
    ")\n",
    "\n",
    "df"
   ]
  },
  {
   "cell_type": "markdown",
   "metadata": {},
   "source": [
    "*Observaciones*\n",
    "\n",
    "Un **DataFrame** es una estructura de datos bidimensional que puede almacenar datos de diferentes tipos (incluidos caracteres, números enteros, valores de punto flotante, datos categóricos y más) en columnas. Es similar a una hoja de cálculo, una tabla SQL o `data.frame` en `R`.\n",
    "\n",
    "* La tabla tiene 3 columnas, cada una de ellas con una etiqueta de columna. Las etiquetas de las columnas son respectivamente *Nombre, Edad y Sexo*.\n",
    "\n",
    "* La columna *Nombre* consta de datos textuales con cada valor una cadena, la columna *Edad* son números y la columna *Sexo* son datos textuales.\n",
    "\n",
    "<img src=\"data/01_table_spreadsheet.png\">\n",
    "\n",
    "Cada columna en a DataFramees un Serie."
   ]
  },
  {
   "cell_type": "markdown",
   "metadata": {},
   "source": [
    "## 2. Series\n",
    "\n",
    "<img src=\"data/01_table_series.svg\">\n",
    "\n",
    "Cada columna en un `DataFrame` es una Serie."
   ]
  },
  {
   "cell_type": "markdown",
   "metadata": {},
   "source": [
    "### 2.1 Supongamos que solo estoy interesado en trabajar con los datos en la columna, *Edad*."
   ]
  },
  {
   "cell_type": "code",
   "execution_count": 19,
   "metadata": {},
   "outputs": [
    {
     "data": {
      "text/plain": [
       "0    22\n",
       "1    35\n",
       "2    58\n",
       "Name: Edad, dtype: int64"
      ]
     },
     "execution_count": 19,
     "metadata": {},
     "output_type": "execute_result"
    }
   ],
   "source": [
    "df[\"Edad\"]"
   ]
  },
  {
   "cell_type": "markdown",
   "metadata": {},
   "source": [
    "*Observaciones*\n",
    "\n",
    "Al seleccionar una sola columna de un DataFrame de pandas, el resultado es una series. Para seleccionar la columna, use la etiqueta de la columna entre corchetes `[]`.\n",
    "\n",
    "**Nota: Si está familiarizado con los diccionarios de Python , la selección de una sola columna es muy similar a la selección de valores de diccionario basados ​​en sus claves.\n",
    "\n",
    "También puedes crear uno serie desde cero:"
   ]
  },
  {
   "cell_type": "code",
   "execution_count": 14,
   "metadata": {},
   "outputs": [
    {
     "data": {
      "text/plain": [
       "0    22\n",
       "1    35\n",
       "2    58\n",
       "Name: Edad, dtype: int64"
      ]
     },
     "execution_count": 14,
     "metadata": {},
     "output_type": "execute_result"
    }
   ],
   "source": [
    "edad = pd.Series([22,35,58], name=\"Edad\")\n",
    "edad"
   ]
  },
  {
   "cell_type": "markdown",
   "metadata": {},
   "source": [
    "Un pandas Seriesno tiene etiquetas de columna, ya que es solo una columna de un archivo DataFrame. Una serie tiene etiquetas de fila.\n",
    "\n",
    "## 3. Hacer algo con un DataFrame o Serie"
   ]
  },
  {
   "cell_type": "markdown",
   "metadata": {},
   "source": [
    "### 3.1 Quiero saber la Edad máxima de los pasajeros.\n",
    "\n",
    "Podemos hacer esto seleccionando la columna *Edad* y aplicando `max()`:"
   ]
  },
  {
   "cell_type": "code",
   "execution_count": 8,
   "metadata": {},
   "outputs": [
    {
     "data": {
      "text/plain": [
       "58"
      ]
     },
     "execution_count": 8,
     "metadata": {},
     "output_type": "execute_result"
    }
   ],
   "source": [
    "df[\"Edad\"].max()"
   ]
  },
  {
   "cell_type": "markdown",
   "metadata": {},
   "source": [
    "*Observaciones*\n",
    "\n",
    "O a la Serie:"
   ]
  },
  {
   "cell_type": "code",
   "execution_count": 9,
   "metadata": {},
   "outputs": [
    {
     "data": {
      "text/plain": [
       "58"
      ]
     },
     "execution_count": 9,
     "metadata": {},
     "output_type": "execute_result"
    }
   ],
   "source": [
    "edad.max()"
   ]
  },
  {
   "cell_type": "markdown",
   "metadata": {},
   "source": [
    "*Observaciones*\n",
    "\n",
    "Como se ilustra en el método `max()`, puede hacer cosas con un DataFrame o una Series. `pandas ` proporciona muchas funcionalidades, cada una de ellas con un método que puede aplicar a un DataFrame o  a una Serie. Como los métodos son funciones, no olvides usar paréntesis `()`."
   ]
  },
  {
   "cell_type": "markdown",
   "metadata": {},
   "source": [
    "### 3.2 Estoy interesado en algunas estadísticas básicas de los datos numéricos de mi tabla de datos"
   ]
  },
  {
   "cell_type": "code",
   "execution_count": 12,
   "metadata": {},
   "outputs": [
    {
     "data": {
      "text/html": [
       "<div>\n",
       "<style scoped>\n",
       "    .dataframe tbody tr th:only-of-type {\n",
       "        vertical-align: middle;\n",
       "    }\n",
       "\n",
       "    .dataframe tbody tr th {\n",
       "        vertical-align: top;\n",
       "    }\n",
       "\n",
       "    .dataframe thead th {\n",
       "        text-align: right;\n",
       "    }\n",
       "</style>\n",
       "<table border=\"1\" class=\"dataframe\">\n",
       "  <thead>\n",
       "    <tr style=\"text-align: right;\">\n",
       "      <th></th>\n",
       "      <th>Edad</th>\n",
       "    </tr>\n",
       "  </thead>\n",
       "  <tbody>\n",
       "    <tr>\n",
       "      <th>count</th>\n",
       "      <td>3.000000</td>\n",
       "    </tr>\n",
       "    <tr>\n",
       "      <th>mean</th>\n",
       "      <td>38.333333</td>\n",
       "    </tr>\n",
       "    <tr>\n",
       "      <th>std</th>\n",
       "      <td>18.230012</td>\n",
       "    </tr>\n",
       "    <tr>\n",
       "      <th>min</th>\n",
       "      <td>22.000000</td>\n",
       "    </tr>\n",
       "    <tr>\n",
       "      <th>25%</th>\n",
       "      <td>28.500000</td>\n",
       "    </tr>\n",
       "    <tr>\n",
       "      <th>50%</th>\n",
       "      <td>35.000000</td>\n",
       "    </tr>\n",
       "    <tr>\n",
       "      <th>75%</th>\n",
       "      <td>46.500000</td>\n",
       "    </tr>\n",
       "    <tr>\n",
       "      <th>max</th>\n",
       "      <td>58.000000</td>\n",
       "    </tr>\n",
       "  </tbody>\n",
       "</table>\n",
       "</div>"
      ],
      "text/plain": [
       "            Edad\n",
       "count   3.000000\n",
       "mean   38.333333\n",
       "std    18.230012\n",
       "min    22.000000\n",
       "25%    28.500000\n",
       "50%    35.000000\n",
       "75%    46.500000\n",
       "max    58.000000"
      ]
     },
     "execution_count": 12,
     "metadata": {},
     "output_type": "execute_result"
    }
   ],
   "source": [
    "df.describe()"
   ]
  },
  {
   "cell_type": "markdown",
   "metadata": {},
   "source": [
    "*Observaciones*\n",
    "\n",
    "El método `describe()` proporciona una descripción general rápida de los datos numéricos en un archivo DataFrame. Como las columnas Nombre, Edad y Sexo son datos textuales, el método `describe()` no los tiene en cuenta de forma predeterminada.\n",
    "\n",
    "Muchas operaciones de pandas devuelven un DataFrame o un Serie. El método describe() es un ejemplo de una operación pandas que devuelve una Serie o un DataFrame."
   ]
  },
  {
   "cell_type": "markdown",
   "metadata": {},
   "source": [
    "## RECORDAR\n",
    "* Importar el paquete, también conocido como import pandas as pd\n",
    "\n",
    "* Una tabla de datos se almacena como pandas.DataFrame\n",
    "\n",
    "* Cada columna en un DataFrame es un Serie\n",
    "\n",
    "* Puedes hacer cosas aplicando un método a un DataFrame o una Serie"
   ]
  }
 ],
 "metadata": {
  "interpreter": {
   "hash": "e4719aa854e47950d88e345cb259701737fd982fcf13ab1b087b9fc977e20056"
  },
  "kernelspec": {
   "display_name": "Python 3.8.10 64-bit",
   "language": "python",
   "name": "python3"
  },
  "language_info": {
   "codemirror_mode": {
    "name": "ipython",
    "version": 3
   },
   "file_extension": ".py",
   "mimetype": "text/x-python",
   "name": "python",
   "nbconvert_exporter": "python",
   "pygments_lexer": "ipython3",
   "version": "3.8.10"
  },
  "orig_nbformat": 4
 },
 "nbformat": 4,
 "nbformat_minor": 2
}
