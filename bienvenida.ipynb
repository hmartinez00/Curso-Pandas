{
 "cells": [
  {
   "cell_type": "code",
   "execution_count": 4,
   "metadata": {},
   "outputs": [
    {
     "name": "stdout",
     "output_type": "stream",
     "text": [
      "<h2 class=\"Title\">Episodios</h2>\n",
      "<h2 class=\"Title\">Walker Independence 1x2</h2>\n",
      "<h2 class=\"Title\">Alaska Daily 1x2</h2>\n",
      "<h2 class=\"Title\">FBI: International 2x4</h2>\n",
      "<h2 class=\"Title\">NCIS: Hawai’i 2x4</h2>\n",
      "<h2 class=\"Title\">The Serpent Queen 1x6</h2>\n",
      "<h2 class=\"Title\">CSI: Vegas 2x3</h2>\n",
      "<h2 class=\"Title\">Power Book III: Raising Kanan 2x9</h2>\n",
      "<h2 class=\"Title\">Law &amp; Order: Organized Crime 3x4</h2>\n",
      "<h2 class=\"Title\">The Cleaning Lady 2x4</h2>\n",
      "<h2 class=\"Title\">Walker 3x2</h2>\n",
      "<h2 class=\"Title\">Películas Online</h2>\n",
      "<h2 class=\"Title\">Un crimen argentino</h2>\n",
      "<h2 class=\"Title\">Blackout</h2>\n",
      "<h2 class=\"Title\">La Madrastra</h2>\n",
      "<h2 class=\"Title\">Cerdita</h2>\n",
      "<h2 class=\"Title\">Shin Ultraman</h2>\n",
      "<h2 class=\"Title\">Clerks III</h2>\n",
      "<h2 class=\"Title\">Dark Web: Cicada 3301</h2>\n",
      "<h2 class=\"Title\">The Inhabitant</h2>\n",
      "<h2 class=\"Title\">The Visitor</h2>\n",
      "<h2 class=\"Title\">Old Man</h2>\n",
      "<h2 class=\"Title\">Rosalina</h2>\n",
      "<h2 class=\"Title\">Seance</h2>\n",
      "<h2 class=\"Title\">The Club of Ugly Children</h2>\n",
      "<h2 class=\"Title\">El Espíritu de Bridge Hollow</h2>\n",
      "<h2 class=\"Title\">La pasajera</h2>\n",
      "<h2 class=\"Title\">Together Together</h2>\n",
      "<h2 class=\"Title\">Un novio para mi mujer</h2>\n",
      "<h2 class=\"Title\">Te acordarás de mi</h2>\n",
      "<h2 class=\"Title\">Halloween: La Noche Final</h2>\n",
      "<h2 class=\"Title\">Los ancianos</h2>\n",
      "<h2 class=\"Title\">Estamos hechos para entendernos</h2>\n",
      "<h2 class=\"Title\">Maleficio</h2>\n",
      "<h2 class=\"Title\">After Yang</h2>\n",
      "<h2 class=\"Title\">La Vida de Catherine</h2>\n",
      "<h2 class=\"Title\">Delirium</h2>\n",
      "<h2 class=\"Title\">El vestido de la novia</h2>\n",
      "<h2 class=\"Title\">Grimcutty: Asesino implacable</h2>\n",
      "<h2 class=\"Title\">How to Please a Woman</h2>\n",
      "<h2 class=\"Title\">La brigada de la cocina</h2>\n",
      "<h2 class=\"Title\">La desaparición</h2>\n",
      "<h2 class=\"Title\">Canción de amor</h2>\n",
      "<h2 class=\"Title\">La Chica Mas Afortunada Del Mundo</h2>\n",
      "<h2 class=\"Title\">El Cataclismo</h2>\n",
      "<h2 class=\"Title\">Lina, actriz para todo</h2>\n",
      "<h2 class=\"Title\">La Mujer Rey</h2>\n",
      "<h2 class=\"Title\">Los jóvenes amantes</h2>\n",
      "<h2 class=\"Title\">Los tres deseos de Cenicienta</h2>\n",
      "<h2 class=\"Title\">La maldición del Hombre Lobo</h2>\n",
      "<h2 class=\"Title\">La batalla del lago Changjin II</h2>\n",
      "<h2 class=\"Title\">A Love Song</h2>\n",
      "<h2 class=\"Title\">Cyrano</h2>\n",
      "<h2 class=\"Title\">Tu mejor fan</h2>\n",
      "<h2 class=\"Title\">Outlaw’s Buckle</h2>\n",
      "<h2 class=\"Title\">La conferencia</h2>\n",
      "<h2 class=\"Title\">The Infernal Walker</h2>\n",
      "<h2 class=\"Title\">Series Online</h2>\n",
      "<h2 class=\"Title\">Shantaram</h2>\n",
      "<h2 class=\"Title\">The Playlist</h2>\n",
      "<h2 class=\"Title\">The Watcher</h2>\n",
      "<h2 class=\"Title\">The Winchesters</h2>\n",
      "<h2 class=\"Title\">Avenue 5</h2>\n",
      "<h2 class=\"Title\">Let the Right One In</h2>\n",
      "<h2 class=\"Title\">Walker Independence</h2>\n",
      "<h2 class=\"Title\">Alaska Daily</h2>\n",
      "<h2 class=\"Title\">Interview with the Vampire</h2>\n",
      "<h2 class=\"Title\">The Midnight Club</h2>\n",
      "<h2 class=\"Title\">Reginald the Vampire</h2>\n",
      "<h2 class=\"Title\">A Friend of the Family</h2>\n"
     ]
    }
   ],
   "source": [
    "from bs4 import BeautifulSoup\n",
    "import requests\n",
    "url = 'https://i2.cuevana3.me'\n",
    "# response = requests.get('https://pandas.pydata.org/docs/getting_started/intro_tutorials/07_reshape_table_layout.html')\n",
    "response = requests.get(url)\n",
    "bs = BeautifulSoup(response.text, 'html.parser')\n",
    "links = bs.find_all('h2')\n",
    "for link in links:\n",
    "    #print(link.get('href'))\n",
    "    print(link)"
   ]
  },
  {
   "cell_type": "code",
   "execution_count": 4,
   "metadata": {},
   "outputs": [
    {
     "data": {
      "text/plain": [
       "['1. Qué tipo de datos maneja pandas.ipynb',\n",
       " '10. Cómo manipular datos textuales.ipynb',\n",
       " '2. Cómo leo y escribo datos tabulares.ipynb',\n",
       " '3. Cómo selecciono un subconjunto de un DataFrame.ipynb',\n",
       " '4. Cómo crear tramas en pandas.ipynb',\n",
       " '5. Cómo crear nuevas columnas derivadas de columnas existentes.ipynb',\n",
       " '6. Cómo calcular las estadísticas de resumen.ipynb',\n",
       " '7. Cómo remodelar el diseño de las tablas.ipynb',\n",
       " '8. Cómo combinar la data de multiples tablas.ipynb',\n",
       " '9. Cómo manejar datos de series temporales con facilidad.ipynb']"
      ]
     },
     "execution_count": 4,
     "metadata": {},
     "output_type": "execute_result"
    }
   ],
   "source": [
    "import os\n",
    "os.listdir(\"C:/Users/Hector Martinez/Documents/DIPLOMADO - Inteligencia Artificial/Curso Pandas\")[0:10]"
   ]
  }
 ],
 "metadata": {
  "interpreter": {
   "hash": "e4719aa854e47950d88e345cb259701737fd982fcf13ab1b087b9fc977e20056"
  },
  "kernelspec": {
   "display_name": "Python 3.8.10 64-bit",
   "language": "python",
   "name": "python3"
  },
  "language_info": {
   "codemirror_mode": {
    "name": "ipython",
    "version": 3
   },
   "file_extension": ".py",
   "mimetype": "text/x-python",
   "name": "python",
   "nbconvert_exporter": "python",
   "pygments_lexer": "ipython3",
   "version": "3.8.10"
  },
  "orig_nbformat": 4
 },
 "nbformat": 4,
 "nbformat_minor": 2
}
